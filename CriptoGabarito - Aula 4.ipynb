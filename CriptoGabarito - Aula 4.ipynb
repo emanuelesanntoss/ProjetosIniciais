{
 "cells": [
  {
   "cell_type": "markdown",
   "metadata": {},
   "source": [
    "# Automação Web e Busca de Informações com Python\n",
    "\n",
    "\n",
    "- Bitcoin\n",
    "- Etherium\n",
    "- Cardano\n",
    "\n",
    "Precisamos pegar na internet, de forma automática, a cotação desses 3 itens e saber quanto devemos cobrar pelos nossos produtos, considerando uma margem de contribuição que temos na nossa base de dados.\n",
    "\n",
    "Base de Dados: https://drive.google.com/drive/folders/1QHOQt1J7d5Z4sBFKL9GN699OcPh2aVaP?usp=sharing\n",
    "\n",
    "Para isso, vamos criar uma automação web:\n",
    "\n",
    "- Usaremos o selenium\n",
    "- Importante: baixar o webdriver"
   ]
  },
  {
   "cell_type": "code",
   "execution_count": 1,
   "metadata": {},
   "outputs": [
    {
     "name": "stdout",
     "output_type": "stream",
     "text": [
      "32349\n"
     ]
    }
   ],
   "source": [
    "from selenium import webdriver\n",
    "from selenium.webdriver.common.keys import Keys\n",
    "\n",
    "# para rodar o chrome em 2º plano\n",
    "# from selenium.webdriver.chrome.options import Options\n",
    "# chrome_options = Options()\n",
    "# chrome_options.headless = True # also works\n",
    "# nav = webdriver.Chrome(options=chrome_options)\n",
    "\n",
    "nav = webdriver.Chrome()\n",
    "\n",
    "# pesquisar cotação bitcoin \n",
    "nav.get(\"https://www.google.com/\")\n",
    "nav.find_element_by_xpath('/html/body/div[1]/div[3]/form/div[1]/div[1]/div[1]/div/div[2]/input').send_keys(\"cotação bitcoin em dólar\")\n",
    "nav.find_element_by_xpath('/html/body/div[1]/div[3]/form/div[1]/div[1]/div[1]/div/div[2]/input').send_keys(Keys.ENTER)\n",
    "cotacao_btc_dolar = nav.find_element_by_xpath('//*[@id=\"knowledge-currency__updatable-data-column\"]/div[1]/div[2]/span[1]').get_attribute('data-value')\n",
    "print(cotacao_btc_dolar)\n",
    "\n",
    "# pesquisar cotação bitcoin\n",
    "#nav.get(\"https://www.google.com/\")\n",
    "#nav.find_element_by_xpath('/html/body/div[1]/div[3]/form/div[1]/div[1]/div[1]/div/div[2]/input').send_keys(\"cotação bitcoin em real\")\n",
    "#nav.find_element_by_xpath('/html/body/div[1]/div[3]/form/div[1]/div[1]/div[1]/div/div[2]/input').send_keys(Keys.ENTER)\n",
    "#cotacao_btc_real = nav.find_element_by_xpath('//*[@id=\"knowledge-currency__updatable-data-column\"]/div[1]/div[2]/span[1]').get_attribute('data-value')\n",
    "#print(cotacao_btc_real)\n",
    "\n",
    "# pesquisar cotação ethereum\n",
    "#nav.get(\"https://www.google.com/\")\n",
    "#nav.find_element_by_xpath('/html/body/div[1]/div[3]/form/div[1]/div[1]/div[1]/div/div[2]/input').send_keys(\"cotação ethereum em dólar \")\n",
    "#nav.find_element_by_xpath('/html/body/div[1]/div[3]/form/div[1]/div[1]/div[1]/div/div[2]/input').send_keys(Keys.ENTER)\n",
    "#cotacao_eth_dolar = nav.find_element_by_xpath('//*[@id=\"knowledge-currency__updatable-data-column\"]/div[1]/div[2]/span[1]').get_attribute('data-value')\n",
    "#print(cotacao_eth_dolar)\n",
    "\n",
    "# pesquisar cotação ethereum\n",
    "#nav.get(\"https://www.google.com/\")\n",
    "#nav.find_element_by_xpath('/html/body/div[1]/div[3]/form/div[1]/div[1]/div[1]/div/div[2]/input').send_keys(\"cotação ethereum em real \")\n",
    "#nav.find_element_by_xpath('/html/body/div[1]/div[3]/form/div[1]/div[1]/div[1]/div/div[2]/input').send_keys(Keys.ENTER)\n",
    "#cotacao_eth_real = nav.find_element_by_xpath('//*[@id=\"knowledge-currency__updatable-data-column\"]/div[1]/div[2]/span[1]').get_attribute('data-value')\n",
    "#print(cotacao_eth_real)\n",
    "\n",
    "# pesquisar cotação ethereum\n",
    "#nav.get(\"https://www.google.com/\")\n",
    "#nav.find_element_by_xpath('/html/body/div[1]/div[3]/form/div[1]/div[1]/div[1]/div/div[2]/input').send_keys(\"cotação cardano em dólar \")\n",
    "#nav.find_element_by_xpath('/html/body/div[1]/div[3]/form/div[1]/div[1]/div[1]/div/div[2]/input').send_keys(Keys.ENTER)\n",
    "#cotacao_ada_dolar = nav.find_element_by_xpath('//*[@id=\"rso\"]/div[1]/div/div[1]/div/div[1]/div/div[1]/div/span/span').get_attribute('data-value')\n",
    "#print(cotacao_eth_dolar)\n",
    "\n",
    "\n",
    "\n",
    "# pesquisar cotação cardano\n",
    "#nav.get(\"https://br.investing.com/crypto/cardano/ada-usd/\")\n",
    "#nav.find_element_by_xpath('//*[@id=\"onetrust-accept-btn-handler\"]').click()\n",
    "#cotacao_ada = nav.find_element_by_xpath('//*[@id=\"last_last\"]').get_attribute('value')\n",
    "#cotacao_ada = cotacao_ada.replace(\",\", \".\")\n",
    "#print(cotacao_ada)\n",
    "\n",
    "\n",
    "# pegar cotacao ouro\n",
    "#nav.get(\"https://www.melhorcambio.com/\")\n",
    "#aba_original = nav.window_handles[0]\n",
    "#nav.find_element_by_xpath('//*[@id=\"commodity-hoje\"]/tbody/tr[2]/td[2]/a/img').click()\n",
    "#aba_nova = nav.window_handles[1]\n",
    "#nav.switch_to.window(aba_nova)\n",
    "#cotacao_ouro = nav.find_element_by_id('comercial').get_attribute('value')\n",
    "#cotacao_ouro = cotacao_ouro.replace(\",\", \".\")\n",
    "#print(cotacao_ouro)\n",
    "\n",
    "nav.quit()"
   ]
  },
  {
   "cell_type": "markdown",
   "metadata": {},
   "source": [
    "### Agora vamos atualiza a nossa base de preços com as novas cotações"
   ]
  },
  {
   "cell_type": "markdown",
   "metadata": {},
   "source": [
    "- Importando a base de dados"
   ]
  },
  {
   "cell_type": "code",
   "execution_count": 5,
   "metadata": {
    "scrolled": true
   },
   "outputs": [
    {
     "data": {
      "text/html": [
       "<div>\n",
       "<style scoped>\n",
       "    .dataframe tbody tr th:only-of-type {\n",
       "        vertical-align: middle;\n",
       "    }\n",
       "\n",
       "    .dataframe tbody tr th {\n",
       "        vertical-align: top;\n",
       "    }\n",
       "\n",
       "    .dataframe thead th {\n",
       "        text-align: right;\n",
       "    }\n",
       "</style>\n",
       "<table border=\"1\" class=\"dataframe\">\n",
       "  <thead>\n",
       "    <tr style=\"text-align: right;\">\n",
       "      <th></th>\n",
       "      <th>Produtos</th>\n",
       "      <th>Preço Base Original</th>\n",
       "      <th>Moeda</th>\n",
       "      <th>Cotação</th>\n",
       "      <th>Preço Base Reais</th>\n",
       "      <th>Ajuste</th>\n",
       "      <th>Preço Final</th>\n",
       "    </tr>\n",
       "  </thead>\n",
       "  <tbody>\n",
       "    <tr>\n",
       "      <th>0</th>\n",
       "      <td>BITCOIN</td>\n",
       "      <td>1000</td>\n",
       "      <td>btc</td>\n",
       "      <td>5</td>\n",
       "      <td>5000</td>\n",
       "      <td>1.4</td>\n",
       "      <td>7000</td>\n",
       "    </tr>\n",
       "    <tr>\n",
       "      <th>1</th>\n",
       "      <td>ETHEREUM</td>\n",
       "      <td>500</td>\n",
       "      <td>eth</td>\n",
       "      <td>6</td>\n",
       "      <td>3000</td>\n",
       "      <td>2.0</td>\n",
       "      <td>6000</td>\n",
       "    </tr>\n",
       "  </tbody>\n",
       "</table>\n",
       "</div>"
      ],
      "text/plain": [
       "   Produtos  Preço Base Original Moeda  Cotação  Preço Base Reais  Ajuste  \\\n",
       "0   BITCOIN                 1000   btc        5              5000     1.4   \n",
       "1  ETHEREUM                  500   eth        6              3000     2.0   \n",
       "\n",
       "   Preço Final  \n",
       "0         7000  \n",
       "1         6000  "
      ]
     },
     "metadata": {},
     "output_type": "display_data"
    }
   ],
   "source": [
    "import pandas as pd\n",
    "\n",
    "produtos_df = pd.read_excel(\"Produtos.xlsx\")\n",
    "display(produtos_df)"
   ]
  },
  {
   "cell_type": "markdown",
   "metadata": {},
   "source": [
    "- Atualizando os preços e o cálculo do Preço Final"
   ]
  },
  {
   "cell_type": "code",
   "execution_count": 6,
   "metadata": {},
   "outputs": [
    {
     "data": {
      "text/html": [
       "<div>\n",
       "<style scoped>\n",
       "    .dataframe tbody tr th:only-of-type {\n",
       "        vertical-align: middle;\n",
       "    }\n",
       "\n",
       "    .dataframe tbody tr th {\n",
       "        vertical-align: top;\n",
       "    }\n",
       "\n",
       "    .dataframe thead th {\n",
       "        text-align: right;\n",
       "    }\n",
       "</style>\n",
       "<table border=\"1\" class=\"dataframe\">\n",
       "  <thead>\n",
       "    <tr style=\"text-align: right;\">\n",
       "      <th></th>\n",
       "      <th>Produtos</th>\n",
       "      <th>Preço Base Original</th>\n",
       "      <th>Moeda</th>\n",
       "      <th>Cotação</th>\n",
       "      <th>Preço Base Reais</th>\n",
       "      <th>Ajuste</th>\n",
       "      <th>Preço Final</th>\n",
       "    </tr>\n",
       "  </thead>\n",
       "  <tbody>\n",
       "    <tr>\n",
       "      <th>0</th>\n",
       "      <td>BITCOIN</td>\n",
       "      <td>1000</td>\n",
       "      <td>btc</td>\n",
       "      <td>32349</td>\n",
       "      <td>32349000</td>\n",
       "      <td>1.4</td>\n",
       "      <td>7000</td>\n",
       "    </tr>\n",
       "    <tr>\n",
       "      <th>1</th>\n",
       "      <td>ETHEREUM</td>\n",
       "      <td>500</td>\n",
       "      <td>eth</td>\n",
       "      <td>6</td>\n",
       "      <td>3000</td>\n",
       "      <td>2.0</td>\n",
       "      <td>6000</td>\n",
       "    </tr>\n",
       "  </tbody>\n",
       "</table>\n",
       "</div>"
      ],
      "text/plain": [
       "   Produtos  Preço Base Original Moeda  Cotação  Preço Base Reais  Ajuste  \\\n",
       "0   BITCOIN                 1000   btc    32349          32349000     1.4   \n",
       "1  ETHEREUM                  500   eth        6              3000     2.0   \n",
       "\n",
       "   Preço Final  \n",
       "0         7000  \n",
       "1         6000  "
      ]
     },
     "metadata": {},
     "output_type": "display_data"
    }
   ],
   "source": [
    "produtos_df.loc[produtos_df['Moeda']==\"btc\", \"Cotação\"] = float(cotacao_btc_dolar)\n",
    "#produtos_df.loc[produtos_df['Moeda']==\"eth\", \"Cotação\"] = float(cotacao_eth_dolar)\n",
    "\n",
    "produtos_df['Preço Base Reais'] = produtos_df['Cotação'] * produtos_df['Preço Base Original']\n",
    "#produtos_df['Preço Final'] = produtos_df['Ajuste'] * produtos_df['Preço Base Reais']\n",
    "# produtos_df[\"Preço Final\"] = produtos_df[\"Preço Final\"].map(\"{:.2f}\".format)\n",
    "display(produtos_df)"
   ]
  },
  {
   "cell_type": "markdown",
   "metadata": {},
   "source": [
    "### Agora vamos exportar a nova base de preços atualizada"
   ]
  },
  {
   "cell_type": "code",
   "execution_count": 4,
   "metadata": {},
   "outputs": [],
   "source": [
    "produtos_df.to_excel(\"Produtos Atualizado.xlsx\", index=False)"
   ]
  },
  {
   "cell_type": "code",
   "execution_count": null,
   "metadata": {},
   "outputs": [],
   "source": []
  }
 ],
 "metadata": {
  "kernelspec": {
   "display_name": "Python 3",
   "language": "python",
   "name": "python3"
  },
  "language_info": {
   "codemirror_mode": {
    "name": "ipython",
    "version": 3
   },
   "file_extension": ".py",
   "mimetype": "text/x-python",
   "name": "python",
   "nbconvert_exporter": "python",
   "pygments_lexer": "ipython3",
   "version": "3.8.8"
  }
 },
 "nbformat": 4,
 "nbformat_minor": 4
}
