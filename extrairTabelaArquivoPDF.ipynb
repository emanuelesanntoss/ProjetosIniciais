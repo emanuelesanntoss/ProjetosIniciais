{
 "cells": [
  {
   "cell_type": "code",
   "execution_count": null,
   "id": "39380be6",
   "metadata": {},
   "outputs": [],
   "source": [
    "import tabula\n",
    "\n",
    "#Extraindo as tabelas do arquivo que foi baixado e colocado no repositório corrente.\n",
    "lista_tabelas = tabula.read_pdf('ResultadoVale.pdf', pages='11')\n",
    "print(len(lista_tabelas))"
   ]
  },
  {
   "cell_type": "code",
   "execution_count": null,
   "id": "2cbaffd2",
   "metadata": {},
   "outputs": [],
   "source": [
    "for tabela in lista_tabelas:\n",
    "    display(tabela)"
   ]
  },
  {
   "cell_type": "code",
   "execution_count": null,
   "id": "a5bf5313",
   "metadata": {},
   "outputs": [],
   "source": [
    "import tabula\n",
    "\n",
    "#Extraindo as tabelas diretamente do link onde está o arquivo.\n",
    "lista_tabelas = tabula.read_pdf('http://www.vale.com/PT/investors/information-market/quarterly-results/ResultadosTrimestrais/Vale_IFRS_1T21_BRL_v26042021_vf.pdf', pages='11')\n",
    "for tabela in lista_tabelas:\n",
    "    display(tabela)"
   ]
  },
  {
   "cell_type": "code",
   "execution_count": null,
   "id": "7a35075b",
   "metadata": {},
   "outputs": [],
   "source": [
    "lista_tabelas2 = tabula.read_pdf('ResultadoVale.pdf', pages ='10')\n",
    "print(len(lista_tabelas2))"
   ]
  },
  {
   "cell_type": "code",
   "execution_count": null,
   "id": "ec7f0bab",
   "metadata": {},
   "outputs": [],
   "source": [
    "#Ajustando tabela desconfiguradas.\n",
    "tabela = lista_tabelas2[0]\n",
    "tabela.columns = tabela.iloc[0]\n",
    "tabela[[0,1]] = tabela['Variação percentual'].str.split(\" \", expand=True)\n",
    "# no python listas funcionam dessa forma: (primeiro item que você quer (inclusive) eo utimo (sem considrar o ultimo))\n",
    "tabela = tabela[1:9]\n",
    "tabela = tabela.set_index('R$ milhões')\n",
    "tabela.columns = tabela.iloc[0]\n",
    "tabela = tabela[1:]\n",
    "tabela = tabela.drop('1T21/4T20 1T21/1T20', axis=1)\n",
    "display(tabela)"
   ]
  },
  {
   "cell_type": "code",
   "execution_count": null,
   "id": "86c22748",
   "metadata": {},
   "outputs": [],
   "source": [
    "#Comando caso não consiga extrair as tabelas corretamente do PDF\n",
    "\n",
    "#lattice\n",
    "lista_tabelas2 = tabula.read_pdf('ResultadoVale.pdf', lattice =True)\n",
    "display(lista_df[0])\n",
    "\n",
    "print('*' * 10)\n",
    "\n",
    "#guess\n",
    "lista_tabelas2 = tabula.read_pdf('ResultadoVale.pdf', guess =False)\n",
    "display(lista_df[0])"
   ]
  }
 ],
 "metadata": {
  "kernelspec": {
   "display_name": "Python 3",
   "language": "python",
   "name": "python3"
  },
  "language_info": {
   "codemirror_mode": {
    "name": "ipython",
    "version": 3
   },
   "file_extension": ".py",
   "mimetype": "text/x-python",
   "name": "python",
   "nbconvert_exporter": "python",
   "pygments_lexer": "ipython3",
   "version": "3.8.8"
  }
 },
 "nbformat": 4,
 "nbformat_minor": 5
}
