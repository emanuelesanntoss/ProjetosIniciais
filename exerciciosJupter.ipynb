{
 "cells": [
  {
   "cell_type": "code",
   "execution_count": 2,
   "id": "21fbc9f2",
   "metadata": {},
   "outputs": [
    {
     "name": "stdout",
     "output_type": "stream",
     "text": [
      "Olá mudno lindo! Aqui estou para aprender muito sobre python\n"
     ]
    }
   ],
   "source": [
    "print ('Olá mudno lindo! Aqui estou para aprender muito sobre python')"
   ]
  },
  {
   "cell_type": "code",
   "execution_count": 3,
   "id": "f0e5cfe6",
   "metadata": {},
   "outputs": [
    {
     "name": "stdout",
     "output_type": "stream",
     "text": [
      "boa tarde frio\n"
     ]
    }
   ],
   "source": [
    "# este é um comentário em uma linha\n",
    "print ('boa tarde frio') #comentario embutido"
   ]
  },
  {
   "cell_type": "code",
   "execution_count": 4,
   "id": "f47593f1",
   "metadata": {},
   "outputs": [
    {
     "name": "stdout",
     "output_type": "stream",
     "text": [
      "nada\n"
     ]
    }
   ],
   "source": [
    "print ('nada') #aqui tem um comentário mas o mesmo não é visível"
   ]
  },
  {
   "cell_type": "code",
   "execution_count": 5,
   "id": "64531a91",
   "metadata": {},
   "outputs": [
    {
     "name": "stdout",
     "output_type": "stream",
     "text": [
      "exemplo de aspas duplas\n"
     ]
    }
   ],
   "source": [
    "print(\"exemplo de aspas duplas\")"
   ]
  },
  {
   "cell_type": "code",
   "execution_count": 6,
   "id": "5b550ab4",
   "metadata": {},
   "outputs": [
    {
     "name": "stdout",
     "output_type": "stream",
     "text": [
      "Emanuele & Juliana sao de novo hamburgo e tem consecutivamente as idades de 38 & 32\n"
     ]
    }
   ],
   "source": [
    "y = 'Emanuele'\n",
    "idade = 38\n",
    "x = 'Juliana'\n",
    "idade1 = 32\n",
    "cidade = 'novo hamburgo'\n",
    "\n",
    "print(y, '&', x, 'sao de', cidade, 'e tem consecutivamente as idades de', idade, '&', idade1)"
   ]
  },
  {
   "cell_type": "code",
   "execution_count": 7,
   "id": "c01ee270",
   "metadata": {},
   "outputs": [
    {
     "name": "stdout",
     "output_type": "stream",
     "text": [
      "true\n",
      "false\n",
      "false\n"
     ]
    }
   ],
   "source": [
    "a,b,c = 'true','false','false'\n",
    "print (a)\n",
    "print(b)\n",
    "print(c)"
   ]
  },
  {
   "cell_type": "code",
   "execution_count": 8,
   "id": "ae9de22f",
   "metadata": {},
   "outputs": [
    {
     "name": "stdout",
     "output_type": "stream",
     "text": [
      "<class 'int'>\n",
      "<class 'str'>\n",
      "<class 'list'>\n"
     ]
    }
   ],
   "source": [
    "x = 2\n",
    "y = \"texto\"\n",
    "z =[\"lista\",1]\n",
    "print(type(x))\n",
    "print(type(y))\n",
    "print(type(z))\n"
   ]
  },
  {
   "cell_type": "code",
   "execution_count": 9,
   "id": "d1b8d270",
   "metadata": {},
   "outputs": [
    {
     "name": "stdout",
     "output_type": "stream",
     "text": [
      "20.3 tipo é <class 'float'>\n",
      "20 tipo é <class 'int'>\n",
      "(20.3+0j) tipo é <class 'complex'>\n",
      "20.3 tipo é <class 'str'>\n"
     ]
    }
   ],
   "source": [
    "var1 = 20.3\n",
    "var2 = int(var1) \n",
    "var3 = complex(var1) \n",
    "var4 = str(var1)\n",
    "print(var1,\"tipo é\", type(var1))\n",
    "print(var2,\"tipo é\", type(var2))\n",
    "print(var3,\"tipo é\", type(var3))\n",
    "print(var4,\"tipo é\", type(var4))\n"
   ]
  },
  {
   "cell_type": "code",
   "execution_count": 10,
   "id": "0a9c3c9a",
   "metadata": {},
   "outputs": [
    {
     "name": "stdout",
     "output_type": "stream",
     "text": [
      "20.3\n",
      "20\n",
      "20.3j\n"
     ]
    }
   ],
   "source": [
    "x=20.3 #float\n",
    "y=20 #inteiro\n",
    "z=20.3j #complexo\n",
    "\n",
    "print(x)\n",
    "print(y)\n",
    "print(z)"
   ]
  },
  {
   "cell_type": "code",
   "execution_count": 11,
   "id": "dd537ac0",
   "metadata": {},
   "outputs": [
    {
     "name": "stdout",
     "output_type": "stream",
     "text": [
      "<class 'int'>\n",
      "<class 'int'>\n",
      "<class 'int'>\n"
     ]
    }
   ],
   "source": [
    "# inteiros - integer - int\n",
    "x = 1227348742474 \n",
    "y = -12234353546\n",
    "z = 0\n",
    "print (type (x))\n",
    "print (type (y))\n",
    "print (type (z))"
   ]
  },
  {
   "cell_type": "code",
   "execution_count": 12,
   "id": "b93fe60a",
   "metadata": {},
   "outputs": [
    {
     "name": "stdout",
     "output_type": "stream",
     "text": [
      "<class 'float'>\n",
      "<class 'float'>\n",
      "<class 'tuple'>\n"
     ]
    }
   ],
   "source": [
    "# float (.) tuple (,)\n",
    "x = 122734.8742474\n",
    "y = -12234.353546\n",
    "z = 0,2032\n",
    "print (type (x))\n",
    "print (type (y))\n",
    "print (type (z))"
   ]
  },
  {
   "cell_type": "code",
   "execution_count": 13,
   "id": "07b1758d",
   "metadata": {},
   "outputs": [
    {
     "name": "stdout",
     "output_type": "stream",
     "text": [
      "<class 'complex'>\n",
      "<class 'complex'>\n",
      "<class 'complex'>\n"
     ]
    }
   ],
   "source": [
    "# complexos (são usados com o j para indicar complexidade)\n",
    "x = 12 + 3j\n",
    "y = -12 - 0.4j\n",
    "z = 4j\n",
    "print (type (x))\n",
    "print (type (y))\n",
    "print (type (z))"
   ]
  },
  {
   "cell_type": "code",
   "execution_count": 14,
   "id": "325327ac",
   "metadata": {},
   "outputs": [
    {
     "name": "stdout",
     "output_type": "stream",
     "text": [
      "16\n",
      "E\n",
      "u\n",
      "Eu sou uma frase\n",
      "Eu sou uma frase\n",
      "s\n",
      " sou uma fras\n",
      "Eu sou uma frase\n"
     ]
    }
   ],
   "source": [
    "mystr = \"Eu sou uma frase\"\n",
    "print (len (mystr)) # 16\n",
    "print (mystr[0]) # E\n",
    "print (mystr[1]) # U\n",
    "print (mystr[0: len(mystr)]) # frase completa\n",
    "print (mystr[:]) # : significa 0, entao é o comprimento total da frase\n",
    "print (mystr[-2: -1]) # exibe 'S'\n",
    "print (mystr[-14: -1]) # frase completa excluindo o 'e'\n",
    "print (mystr [:100]) # frase completa"
   ]
  },
  {
   "cell_type": "code",
   "execution_count": 15,
   "id": "089fba60",
   "metadata": {},
   "outputs": [
    {
     "name": "stdout",
     "output_type": "stream",
     "text": [
      "Olá mundo\n",
      "Olá mundo\n",
      "Olá mundo\n"
     ]
    }
   ],
   "source": [
    "x = \"Olá\"\n",
    "y = \"mundo\"\n",
    "z = x + \" \" + y\n",
    "print (x + \" \" + y)\n",
    "print (\"Olá\" + \" \" + \"mundo\")\n",
    "print (z)"
   ]
  },
  {
   "cell_type": "code",
   "execution_count": 16,
   "id": "5951e5ab",
   "metadata": {},
   "outputs": [
    {
     "name": "stdout",
     "output_type": "stream",
     "text": [
      "12.334.6\n",
      "24\n",
      "6\n"
     ]
    }
   ],
   "source": [
    "x = \"2\"\n",
    "y = \"4\"\n",
    "print (\"12.3\" + \"34.6\") # concatenação de string\n",
    "print (x + y) # concatenação de string\n",
    "print (int (x) + int (y)) # adição simples"
   ]
  },
  {
   "cell_type": "code",
   "execution_count": 17,
   "id": "16979d84",
   "metadata": {},
   "outputs": [
    {
     "name": "stdout",
     "output_type": "stream",
     "text": [
      "HelloMundo\n"
     ]
    }
   ],
   "source": [
    "print (\"Hello\", end = \"\") # nenhuma mudança de linha acontecerá\n",
    "print (\"Mundo\")"
   ]
  },
  {
   "cell_type": "code",
   "execution_count": 18,
   "id": "d3e1cc8c",
   "metadata": {},
   "outputs": [
    {
     "name": "stdout",
     "output_type": "stream",
     "text": [
      "Hello Mundo\n"
     ]
    }
   ],
   "source": [
    "print (\"Hello\", end = \" \") # nenhuma mudança de linha, apenas o espaço será inserido\n",
    "print (\"Mundo\")"
   ]
  },
  {
   "cell_type": "code",
   "execution_count": 19,
   "id": "7c218770",
   "metadata": {},
   "outputs": [
    {
     "name": "stdout",
     "output_type": "stream",
     "text": [
      "Hello my Mundo\n"
     ]
    }
   ],
   "source": [
    "print (\"Hello\" + \" \", end = \"my\" + \" \") # inserindo my entre Hello e World\n",
    "print (\"Mundo\")"
   ]
  },
  {
   "cell_type": "code",
   "execution_count": 20,
   "id": "ae136eec",
   "metadata": {},
   "outputs": [
    {
     "name": "stdout",
     "output_type": "stream",
     "text": [
      "Nome: Harry e idade: 30\n",
      "Nome: Harry e idade: 30\n",
      "Nome: 30 e idade: Harry\n",
      "Nome: Harry e idade: 30\n"
     ]
    }
   ],
   "source": [
    "print (\"Nome: {nome} e idade: {idade}\". format (nome = \"Harry\", idade = 30))\n",
    "print (\"Nome: {0} e idade: {1}\". format (\"Harry\", 30))\n",
    "print (\"Nome: {1} e idade: {0}\". format (\"Harry\", 30))\n",
    "print (\"Nome: {} e idade: {}\". format (\"Harry\", 30))"
   ]
  },
  {
   "cell_type": "code",
   "execution_count": 21,
   "id": "fff13ed5",
   "metadata": {},
   "outputs": [
    {
     "name": "stdout",
     "output_type": "stream",
     "text": [
      "Nome: Emanuele e idade: 28\n"
     ]
    }
   ],
   "source": [
    "print (\"Nome: {nome} e idade: {idade}\" .format (nome = \"Emanuele\", idade = 28))"
   ]
  },
  {
   "cell_type": "code",
   "execution_count": 22,
   "id": "fcb9639a",
   "metadata": {},
   "outputs": [
    {
     "name": "stdout",
     "output_type": "stream",
     "text": [
      "Nome: tal / idade: 1 / profissao: mecanico / cidade: Canoas\n"
     ]
    }
   ],
   "source": [
    "print (\"Nome: {} / idade: {} / profissao: {} / cidade: {}\".format (\"tal\",1,\"mecanico\", \"Canoas\"))"
   ]
  },
  {
   "cell_type": "code",
   "execution_count": 23,
   "id": "45ffb5f2",
   "metadata": {},
   "outputs": [
    {
     "name": "stdout",
     "output_type": "stream",
     "text": [
      "Nome: Harry e idade: 30\n"
     ]
    }
   ],
   "source": [
    "nome = \"Harry\"\n",
    "idade = 30\n",
    "print (f\"Nome: {nome} e idade: {idade}\")\n"
   ]
  },
  {
   "cell_type": "code",
   "execution_count": 24,
   "id": "75a08076",
   "metadata": {},
   "outputs": [
    {
     "name": "stdout",
     "output_type": "stream",
     "text": [
      "Nome:Emanuel Santos / funcao: Analista de sistema\n",
      "soma: 9\n"
     ]
    }
   ],
   "source": [
    "nome = \"Emanuel Santos\"\n",
    "funcao = \"Analista de sistema\"\n",
    "print (f\"Nome:{nome} / funcao: {funcao}\")\n",
    "print (f\"soma: {5 + 4}\")"
   ]
  },
  {
   "cell_type": "code",
   "execution_count": 25,
   "id": "7148caa5",
   "metadata": {},
   "outputs": [
    {
     "name": "stdout",
     "output_type": "stream",
     "text": [
      "35\n"
     ]
    }
   ],
   "source": [
    "x = \"O Brasil continua uma terra sem lei\"\n",
    "print (len (x))"
   ]
  },
  {
   "cell_type": "code",
   "execution_count": 26,
   "id": "7d4cacba",
   "metadata": {},
   "outputs": [
    {
     "name": "stdout",
     "output_type": "stream",
     "text": [
      "eu sou do brasil mas moro na irlanda mas vou a frorida amannha a noite\n"
     ]
    }
   ],
   "source": [
    "x = \"Eu sou Do Brasil mas moro na Irlanda mas vou a Frorida amanNha a noite\"\n",
    "print (x.lower())"
   ]
  },
  {
   "cell_type": "code",
   "execution_count": 27,
   "id": "7e990e2c",
   "metadata": {},
   "outputs": [
    {
     "name": "stdout",
     "output_type": "stream",
     "text": [
      "VOU SAIR PARA PASSEAR TODOS OS DIAS E GASTAR MILHOES\n"
     ]
    }
   ],
   "source": [
    "mystring = \"Vou sair para passear todos os dias e gastar milhoes\"\n",
    "print(mystring.upper())"
   ]
  },
  {
   "cell_type": "code",
   "execution_count": 28,
   "id": "230d0863",
   "metadata": {},
   "outputs": [
    {
     "name": "stdout",
     "output_type": "stream",
     "text": [
      "Hoje vamos jantar no xis da voni\n"
     ]
    }
   ],
   "source": [
    "mystring = \"Hoje vamos jantar no katana sushi\"\n",
    "print (mystring.replace(\"katana sushi\", \"xis da voni\"))"
   ]
  },
  {
   "cell_type": "code",
   "execution_count": 29,
   "id": "0345e1ce",
   "metadata": {},
   "outputs": [
    {
     "name": "stdout",
     "output_type": "stream",
     "text": [
      "Eu sou \\ A string\n",
      "Imprimindo uma aspa simples \\ '\n"
     ]
    }
   ],
   "source": [
    "print (\"Eu sou \\ A string\")\n",
    "print (\"Imprimindo uma aspa simples \\ '\")"
   ]
  },
  {
   "cell_type": "code",
   "execution_count": 30,
   "id": "9af9f3e8",
   "metadata": {},
   "outputs": [
    {
     "name": "stdout",
     "output_type": "stream",
     "text": [
      "[1, 2, 3, 4, 'Hello', 'World']\n",
      "1\n",
      "2\n",
      "World\n",
      "World\n",
      "Hello\n"
     ]
    }
   ],
   "source": [
    "myList = [1, 2, 3, 4, \"Hello\", \"World\"] # definindo uma lista\n",
    "print (myList) # imprimindo uma lista\n",
    "print (myList [0]) # imprimindo o primeiro elemento\n",
    "print (myList [1]) # imprimindo segundo elemento\n",
    "print (myList [5]) # imprimindo o último elemento\n",
    "print (myList [-1]) # imprimindo o último elemento\n",
    "print (myList [-2]) # imprimindo o último segundo elemento"
   ]
  },
  {
   "cell_type": "code",
   "execution_count": 31,
   "id": "134c4250",
   "metadata": {},
   "outputs": [
    {
     "name": "stdout",
     "output_type": "stream",
     "text": [
      "[1, 2, 3, 4, 'Hello', 'World']\n",
      "[1, 2, 3, 4, 'Hello']\n",
      "[1, 2, 3, 4, 'Hello', 'World']\n",
      "[2, 3, 4]\n",
      "[3, 4, 'Hello']\n",
      "[4]\n",
      "[1, 2, 3, 4, 'Hello', 'World']\n",
      "[1, 2, 3, 4, 'Hello', 'World']\n"
     ]
    }
   ],
   "source": [
    "myList = [1, 2, 3, 4, \"Hello\", \"World\"] # definindo uma lista\n",
    "print (myList) # imprimindo uma lista\n",
    "print (myList [0: 5]) # python subtrai automaticamente 5-1 = 4                                    \n",
    "print (myList [0: 6]) # 6-1 = 5\n",
    "print (myList [1: 4]) # 4-1 = 3\n",
    "print (myList [-4: -1]) # -1-1 = -2\n",
    "print (myList [-3: -2]) # -2-1 = -3\n",
    "print (myList [: 6]) # python atribui automaticamente 0 \n",
    "                       # se não colocarmos algum valor\n",
    "print (myList [0:]) # python atribui comprimento automaticamente\n",
    "                   # da lista se não colocarmos algum valor"
   ]
  },
  {
   "cell_type": "code",
   "execution_count": 32,
   "id": "a0b3848b",
   "metadata": {},
   "outputs": [
    {
     "name": "stdout",
     "output_type": "stream",
     "text": [
      "Lista antes da mudança é -> [1, 2, 3, 4, 'Hello', 'World']\n",
      "A lista após a mudança é -> [0, 1, 3, 4, 'Pergunta', 'Resposta']\n"
     ]
    }
   ],
   "source": [
    "myList = [1, 2, 3, 4, \"Hello\", \"World\"] # definindo uma lista\n",
    "print (\"Lista antes da mudança é ->\", myList)\n",
    "myList [0] = 0 # atribuindo valores diferentes\n",
    "myList [1] = 1\n",
    "myList [-1] = \"Resposta\"\n",
    "myList [-2] = \"Pergunta\"\n",
    "print (\"A lista após a mudança é ->\", myList)"
   ]
  },
  {
   "cell_type": "code",
   "execution_count": 33,
   "id": "b3d8e44a",
   "metadata": {},
   "outputs": [
    {
     "name": "stdout",
     "output_type": "stream",
     "text": [
      "12\n"
     ]
    }
   ],
   "source": [
    "myList = [1,2,3,5,6,5,6,5,4,4,3,3]\n",
    "print (len(myList))"
   ]
  },
  {
   "cell_type": "code",
   "execution_count": 34,
   "id": "2ee0b333",
   "metadata": {},
   "outputs": [
    {
     "name": "stdout",
     "output_type": "stream",
     "text": [
      "[10, 12, 13, 34, 45, 50]\n"
     ]
    }
   ],
   "source": [
    "myList = [34, 12, 10, 50, 45, 13]\n",
    "myList.sort ()\n",
    "print (myList)"
   ]
  },
  {
   "cell_type": "code",
   "execution_count": 35,
   "id": "99f4401d",
   "metadata": {},
   "outputs": [
    {
     "name": "stdout",
     "output_type": "stream",
     "text": [
      "['acucar', 'arroz', 'banana', 'chocolate', 'leite', 'maca', 'palmito', 'uva']\n"
     ]
    }
   ],
   "source": [
    "myList = [\"banana\",\"maca\", \"uva\",\"chocolate\",\"palmito\",\"arroz\", \"acucar\",\"leite\"]\n",
    "myList.sort()\n",
    "print(myList)"
   ]
  },
  {
   "cell_type": "code",
   "execution_count": 36,
   "id": "fee429de",
   "metadata": {},
   "outputs": [
    {
     "name": "stdout",
     "output_type": "stream",
     "text": [
      "acucar\n"
     ]
    }
   ],
   "source": [
    "myList = [\"banana\",\"maca\", \"uva\",\"chocolate\",\"palmito\",\"arroz\", \"acucar\",\"leite\"]\n",
    "print(min(myList))\n"
   ]
  },
  {
   "cell_type": "code",
   "execution_count": 37,
   "id": "79379715",
   "metadata": {},
   "outputs": [
    {
     "name": "stdout",
     "output_type": "stream",
     "text": [
      "10\n"
     ]
    }
   ],
   "source": [
    "myList = [34, 12, 10, 50, 45, 13]\n",
    "print(min(myList))"
   ]
  },
  {
   "cell_type": "code",
   "execution_count": 38,
   "id": "c24d5187",
   "metadata": {},
   "outputs": [
    {
     "ename": "NameError",
     "evalue": "name 'imprimir' is not defined",
     "output_type": "error",
     "traceback": [
      "\u001b[1;31m---------------------------------------------------------------------------\u001b[0m",
      "\u001b[1;31mNameError\u001b[0m                                 Traceback (most recent call last)",
      "\u001b[1;32m<ipython-input-38-5d8e129d1d67>\u001b[0m in \u001b[0;36m<module>\u001b[1;34m\u001b[0m\n\u001b[0;32m      1\u001b[0m \u001b[0mmyList\u001b[0m \u001b[1;33m=\u001b[0m \u001b[1;33m[\u001b[0m\u001b[1;36m34\u001b[0m\u001b[1;33m,\u001b[0m \u001b[1;36m12\u001b[0m\u001b[1;33m,\u001b[0m \u001b[1;36m10\u001b[0m\u001b[1;33m,\u001b[0m \u001b[1;36m50\u001b[0m\u001b[1;33m,\u001b[0m \u001b[1;36m45\u001b[0m\u001b[1;33m,\u001b[0m \u001b[1;36m13\u001b[0m\u001b[1;33m]\u001b[0m\u001b[1;33m\u001b[0m\u001b[1;33m\u001b[0m\u001b[0m\n\u001b[1;32m----> 2\u001b[1;33m \u001b[0mimprimir\u001b[0m \u001b[1;33m(\u001b[0m\u001b[0mmin\u001b[0m \u001b[1;33m(\u001b[0m\u001b[0mminhaLista\u001b[0m\u001b[1;33m)\u001b[0m\u001b[1;33m)\u001b[0m\u001b[1;33m\u001b[0m\u001b[1;33m\u001b[0m\u001b[0m\n\u001b[0m",
      "\u001b[1;31mNameError\u001b[0m: name 'imprimir' is not defined"
     ]
    }
   ],
   "source": [
    "myList = [34, 12, 10, 50, 45, 13]\n",
    "imprimir (min (minhaLista))"
   ]
  },
  {
   "cell_type": "code",
   "execution_count": null,
   "id": "511951e6",
   "metadata": {},
   "outputs": [],
   "source": [
    "myList = [\"banana\",\"maca\", \"uva\",\"chocolate\",\"palmito\",\"arroz\", \"acucar\",\"leite\"]\n",
    "myList.sort()\n",
    "print (myList)"
   ]
  },
  {
   "cell_type": "code",
   "execution_count": null,
   "id": "3bb55f1b",
   "metadata": {},
   "outputs": [],
   "source": [
    "myList = [\"banana\",\"maca\", \"uva\",\"chocolate\",\"palmito\",\"arroz\", \"acucar\",\"leite\"]\n",
    "print (max(myList))"
   ]
  },
  {
   "cell_type": "code",
   "execution_count": null,
   "id": "4b9ecc0a",
   "metadata": {},
   "outputs": [],
   "source": [
    "myList = [3,5,6,4,86,3,54,76,12,1,32,1,45,0,587]\n",
    "print (max(myList))"
   ]
  },
  {
   "cell_type": "code",
   "execution_count": null,
   "id": "a073566e",
   "metadata": {},
   "outputs": [],
   "source": [
    "myTuple = (1, 2, 3, 4)\n",
    "myList1 = list (myTuple)\n",
    "myString = \"Olá\"\n",
    "myList2 = list (myString)\n",
    "mySet = {1, 2, 3, 4}\n",
    "myList3 = list (mySet)\n",
    "print (myList1)\n",
    "print (myList2)\n",
    "print (myList3)"
   ]
  },
  {
   "cell_type": "code",
   "execution_count": null,
   "id": "55e689e7",
   "metadata": {},
   "outputs": [],
   "source": [
    "myList1 = (4,6,4,3,2,6,7,8)\n",
    "myList1 = list(myList1)\n",
    "print (myList1)"
   ]
  },
  {
   "cell_type": "code",
   "execution_count": null,
   "id": "1d33eed9",
   "metadata": {},
   "outputs": [],
   "source": [
    "myList1 = {\"banana\",\"maca\", \"uva\",\"chocolate\",\"palmito\",\"arroz\", \"acucar\",\"leite\"}\n",
    "myList1 = list(myList1)\n",
    "print (myList1)"
   ]
  },
  {
   "cell_type": "code",
   "execution_count": null,
   "id": "3ea12790",
   "metadata": {},
   "outputs": [],
   "source": [
    "myList1 = \"Emanuele\"\n",
    "myList1 = list(myList1)\n",
    "print (myList1)"
   ]
  },
  {
   "cell_type": "code",
   "execution_count": null,
   "id": "1785b6ac",
   "metadata": {},
   "outputs": [],
   "source": [
    "myList = [1, 2, 3, 4]\n",
    "myList.append (5)\n",
    "print (myList)"
   ]
  },
  {
   "cell_type": "code",
   "execution_count": null,
   "id": "5d538bf8",
   "metadata": {},
   "outputs": [],
   "source": [
    "myList = [\"caneta\",\"lapis\",\"caderno\",\"estojo\",\"mochila\"]\n",
    "myList.append (\"cartolina\")\n",
    "print (myList)"
   ]
  },
  {
   "cell_type": "code",
   "execution_count": null,
   "id": "7d7537cb",
   "metadata": {},
   "outputs": [],
   "source": [
    "myList = [\"caneta\",\"lapis\",\"caderno\",\"estojo\",\"mochila\"]\n",
    "myList.clear()\n",
    "print (myList)"
   ]
  },
  {
   "cell_type": "code",
   "execution_count": null,
   "id": "89970ee7",
   "metadata": {},
   "outputs": [],
   "source": [
    "myList1 = [1, 2, 3, 4]\n",
    "myList2 = myList1.copy ()\n",
    "print (myList2)"
   ]
  },
  {
   "cell_type": "code",
   "execution_count": null,
   "id": "6e85d050",
   "metadata": {},
   "outputs": [],
   "source": [
    "myList1 = [1, 2, 3, 4]\n",
    "myList2 = [5, 6, 7, 8]\n",
    "myList3 = myList1.copy()\n",
    "myList4 = myList2.copy()\n",
    "print (myList3 + myList4)"
   ]
  },
  {
   "cell_type": "code",
   "execution_count": null,
   "id": "1d8efca8",
   "metadata": {},
   "outputs": [],
   "source": [
    "myList = [1, 2, 3, 4]\n",
    "myList.reverse ()\n",
    "print (myList)"
   ]
  },
  {
   "cell_type": "code",
   "execution_count": null,
   "id": "28930e5a",
   "metadata": {},
   "outputs": [],
   "source": [
    "minhaLista = [1, 2, 3, 4, 5, 6, 7]\n",
    "adicao1 = sum (minhaLista)\n",
    "print (adicao1)\n",
    "adicao2 = sum (minhaLista, 3)\n",
    "print (adicao2)"
   ]
  },
  {
   "cell_type": "code",
   "execution_count": null,
   "id": "ed9e9fea",
   "metadata": {},
   "outputs": [],
   "source": [
    "minhaLista1 = [* range (15)]\n",
    "minhaLista2 = [* range (4, 15)]\n",
    "minhaLista3 = [* range (4, 100, 7)]\n",
    "print (minhaLista1)\n",
    "print (minhaLista2)\n",
    "print (minhaLista3)"
   ]
  },
  {
   "cell_type": "code",
   "execution_count": null,
   "id": "aad6c675",
   "metadata": {},
   "outputs": [],
   "source": [
    "minhaLista1 = [* range (15)]\n",
    "minhaLista2 = [* range (4, 15)]\n",
    "minhaLista3 = [* range (5, 50, 3)]\n",
    "print (minhaLista1)\n",
    "print (minhaLista2)\n",
    "print (minhaLista3)"
   ]
  },
  {
   "cell_type": "code",
   "execution_count": null,
   "id": "f11e1e06",
   "metadata": {},
   "outputs": [],
   "source": [
    "myList = [4, 5, 6, 7, 8, 9, 10, 11] \n",
    "print (myList.pop ()) # 11\n",
    "print (myList)\n",
    "print (myList.pop (3)) # 7\n",
    "print (myList)\n",
    "print (myList.pop (0)) # 4\n",
    "print (myList)\n",
    "print (myList.pop ()) # 10\n",
    "print (myList)"
   ]
  },
  {
   "cell_type": "code",
   "execution_count": null,
   "id": "5b8290ba",
   "metadata": {},
   "outputs": [],
   "source": [
    "myList = [4, 5, 6, 7, 8, 9, 10, 11,15,15,14,18,7]\n",
    "print (myList.pop())"
   ]
  },
  {
   "cell_type": "code",
   "execution_count": null,
   "id": "ae34e282",
   "metadata": {},
   "outputs": [],
   "source": [
    "myList = [4, 5, 6, 7, 8, 9, 10, 11,15,15,14,18,7]\n",
    "print (myList.pop(8))\n",
    "print (myList)"
   ]
  },
  {
   "cell_type": "code",
   "execution_count": null,
   "id": "113bdfac",
   "metadata": {},
   "outputs": [],
   "source": [
    "myList = [4, 5, 6, 7, 8, 9, 10, 11]\n",
    "print (myList.remove (4)) # remove 4 e não retorna nada\n",
    "print (myList)"
   ]
  },
  {
   "cell_type": "code",
   "execution_count": null,
   "id": "ab9fb543",
   "metadata": {},
   "outputs": [],
   "source": [
    "myList = [4, 5, 6, 7, 4, 8, 9, 4, 10, 11,4]\n",
    "while 4 in myList: myList.remove (4)\n",
    "print (myList)"
   ]
  },
  {
   "cell_type": "code",
   "execution_count": null,
   "id": "95bd10b6",
   "metadata": {},
   "outputs": [],
   "source": [
    "myList = [4, 5, 6, 7, 4, 8, 9]\n",
    "print (myList.index (5))\n",
    "print (myList.index (4))\n",
    "print (myList.index (4, 2, 5))\n",
    "print (myList.index (4, 2, 3))"
   ]
  },
  {
   "cell_type": "code",
   "execution_count": null,
   "id": "aa7502c2",
   "metadata": {},
   "outputs": [],
   "source": [
    "myList = [4, 5, 6, 7, 4, 8, 9]\n",
    "print(myList.index(5))\n",
    "print(myList.index(4))\n",
    "print(myList.index(4, 2, 5))\n",
    "print(myList.index(4, 2, 3))"
   ]
  },
  {
   "cell_type": "code",
   "execution_count": null,
   "id": "aeed56a2",
   "metadata": {},
   "outputs": [],
   "source": [
    "myList = [4, 5, 6, 7, 4, 8, 9]\n",
    "print(myList.index(7))"
   ]
  },
  {
   "cell_type": "code",
   "execution_count": null,
   "id": "c27662c6",
   "metadata": {},
   "outputs": [],
   "source": [
    "myList = [4, 5, 6, 7, 4, 8, 9]\n",
    "print (myList.index (4))"
   ]
  },
  {
   "cell_type": "code",
   "execution_count": null,
   "id": "b99f619f",
   "metadata": {},
   "outputs": [],
   "source": [
    "myList = [4, 5, 6, 7, 4, 8, 9]\n",
    "print (myList.index (4, 2, 5))"
   ]
  },
  {
   "cell_type": "code",
   "execution_count": null,
   "id": "b112d606",
   "metadata": {},
   "outputs": [],
   "source": [
    "myList = [4, 5, 6 , 10, 7, 4, 8, 9]\n",
    "print(myList.index(10, 2, 4))"
   ]
  },
  {
   "cell_type": "code",
   "execution_count": null,
   "id": "3b7cc992",
   "metadata": {},
   "outputs": [],
   "source": [
    "myList = [4, 5, 6, 7, 4, 8, 9]\n",
    "myList.insert (0, 1)\n",
    "print (myList)"
   ]
  },
  {
   "cell_type": "code",
   "execution_count": null,
   "id": "b2a9c5d4",
   "metadata": {},
   "outputs": [],
   "source": [
    "myList = [4, 5, 6, 7, 4, 8, 9]\n",
    "myList.insert (7, 1)\n",
    "print (myList)"
   ]
  },
  {
   "cell_type": "code",
   "execution_count": null,
   "id": "87e061d0",
   "metadata": {},
   "outputs": [],
   "source": [
    "myList = [4, 5, 6, 7, 4, 8, 9]\n",
    "myList.insert (28, 13)\n",
    "print (myList)"
   ]
  },
  {
   "cell_type": "code",
   "execution_count": null,
   "id": "e9f8a004",
   "metadata": {},
   "outputs": [],
   "source": [
    "from prettytable import PrettyTable\n",
    "from prettytable import from_csv\n",
    "from prettytable import from_html\n",
    "from prettytable import PrettyTable\n",
    "myTable = PrettyTable()\n",
    "\n",
    "myTable = PrettyTable()\n",
    "myTable.field_names = ([\"Nome\", \"Turma\", \"Nota\"])\n",
    "\n",
    "#adicionar colunas\n",
    "myTable.add_row([\"Maria\",\"3A\", \"8\"])\n",
    "myTable.add_row([\"Pedro\",\"3A\", \"9\"])\n",
    "myTable.add_row([\"Samanta\",\"3A\", \"8\"])\n",
    "myTable.add_row([\"Maria Louca\",\"2B\", \"6\"])\n",
    "myTable.add_row([\"Luiz\",\"1D\", \"4\"])\n",
    "myTable.add_row([\"Mariana\",\"3A\", \"6\"])\n",
    "myTable.add_row([\"Betina\",\"3C\", \"8\"])\n",
    "myTable.add_row([\"Juliana\",\"1D\", \"7\"])\n",
    "\n",
    "#Exibe dados\n",
    "print(myTable)"
   ]
  },
  {
   "cell_type": "code",
   "execution_count": null,
   "id": "33e951d6",
   "metadata": {},
   "outputs": [],
   "source": [
    "from prettytable import PrettyTable\n",
    "from prettytable import from_csv\n",
    "from prettytable import from_html\n",
    "\n",
    "# Cria a tabela\n",
    "x = PrettyTable([\"Nome da cidade\", \"UF\", \"Populacao\", \"IDH-M\", \"Renda per Capita\"])\n",
    "\n",
    "# Alinha as colunas\n",
    "x.align[\"Nome da cidade\"] = \"l\"\n",
    "x.align[\"UF\"] = \"l\"\n",
    "x.align[\"População\"] = \"1\"\n",
    "x.align[\"IDH-M\"] = \"1\"\n",
    "x.align[\"Renda per Capita\"] = \"1\"\n",
    "\n",
    "# Deixa um espaço entre a borda das colunas e o conteúdo (default)\n",
    "x.padding_width = 3\n",
    "\n",
    "# Adiciona dados a tabela\n",
    "x.add_row([\"Sao Paulo\",\"SP\", 12106920, 0.805, 54358]) \n",
    "x.add_row([\"Rio de Janeiro\",\"RJ\", 6520266, 0.799, 49527]) \n",
    "x.add_row([\"Belo Horizonte\", \"MG\", 2523794, 0.810, 35187]) \n",
    "x.add_row([\"Porto Alegre\", \"RS\", 1484941, 0.805, 46122]) \n",
    "x.add_row([\"Salvador\", \"BA\", 2953986, 0.759, 19812]) \n",
    "x.add_row([\"Recife\", \"PE\", 1633697, 0.772, 29701]) \n",
    "x.add_row([\"Brasilia\", \"DF\", 3039444, 0.824, 73971])\n",
    "\n",
    "# Ordenar por cidade\n",
    "print(x.get_string(sortby=\"Nome da cidade\"))\n"
   ]
  },
  {
   "cell_type": "code",
   "execution_count": null,
   "id": "49e6bc31",
   "metadata": {
    "scrolled": true
   },
   "outputs": [],
   "source": [
    "from tqdm import tnrange, tqdm_notebook\n",
    "from time import sleep\n",
    "for i in tnrange(1, desc = '1st loop'):\n",
    "    for j in tnrange (100, desc = '2st loop' ):\n",
    "        sleep(0.01)  # exemplo de carregamento de elementos"
   ]
  },
  {
   "cell_type": "code",
   "execution_count": null,
   "id": "9443329d",
   "metadata": {},
   "outputs": [],
   "source": [
    "import numpy as np\n",
    "from bashplotlib.histogram import plot_hist\n",
    "arr = np.random.normal(size=1000, loc=0, scale=1)\n",
    "plot_hist(arr, bincount=100)"
   ]
  },
  {
   "cell_type": "code",
   "execution_count": null,
   "id": "ed422202",
   "metadata": {},
   "outputs": [],
   "source": [
    "from openpyxl import Workbook\n",
    "\n",
    "arquivo_excel = Workbook()\n",
    "planilha2 = arquivo_excel.create_sheet(\"Ganhos\", 0)\n",
    "planilha2['A1'] = 'Categoria'\n",
    "planilha2['B1'] = 'Valor'\n",
    "planilha2['A2'] = \"Restaurante\"\n",
    "planilha2['B2'] = 45.99\n",
    "valores = [\n",
    "    (\"Categoria\", \"Especial\"),\n",
    "    (\"Restaurante\", 45.99),\n",
    "    (\"Transporte\", 208.45),\n",
    "    (\"Viagem\", 558.54)\n",
    "]\n",
    "\n",
    "for linha in valores:\n",
    "    planilha2.append(linha)\n",
    "planilha2.cell(row=3, column=1, value=34.99)\n",
    "arquivo_excel.save(\"relatorio.xlsx\")\n",
    "    \n",
    "print(arquivo_excel.sheetnames)"
   ]
  },
  {
   "cell_type": "code",
   "execution_count": 39,
   "id": "6a4a0f58",
   "metadata": {
    "scrolled": true
   },
   "outputs": [
    {
     "ename": "AttributeError",
     "evalue": "module 'speedtest' has no attribute 'speedtest'",
     "output_type": "error",
     "traceback": [
      "\u001b[1;31m---------------------------------------------------------------------------\u001b[0m",
      "\u001b[1;31mAttributeError\u001b[0m                            Traceback (most recent call last)",
      "\u001b[1;32m<ipython-input-39-193b408155fa>\u001b[0m in \u001b[0;36m<module>\u001b[1;34m\u001b[0m\n\u001b[0;32m      3\u001b[0m \u001b[1;33m\u001b[0m\u001b[0m\n\u001b[0;32m      4\u001b[0m \u001b[1;31m# declarar variavel\u001b[0m\u001b[1;33m\u001b[0m\u001b[1;33m\u001b[0m\u001b[1;33m\u001b[0m\u001b[0m\n\u001b[1;32m----> 5\u001b[1;33m \u001b[0ms\u001b[0m \u001b[1;33m=\u001b[0m \u001b[0mspeedtest\u001b[0m\u001b[1;33m.\u001b[0m\u001b[0mspeedtest\u001b[0m\u001b[1;33m(\u001b[0m\u001b[1;33m)\u001b[0m\u001b[1;33m\u001b[0m\u001b[1;33m\u001b[0m\u001b[0m\n\u001b[0m\u001b[0;32m      6\u001b[0m \u001b[1;33m\u001b[0m\u001b[0m\n\u001b[0;32m      7\u001b[0m \u001b[1;31m# fazer o teste do download e converter em Mb/s\u001b[0m\u001b[1;33m\u001b[0m\u001b[1;33m\u001b[0m\u001b[1;33m\u001b[0m\u001b[0m\n",
      "\u001b[1;31mAttributeError\u001b[0m: module 'speedtest' has no attribute 'speedtest'"
     ]
    }
   ],
   "source": [
    "# importar biblioteca\n",
    "import speedtest\n",
    "\n",
    "# declarar variavel\n",
    "s = speedtest.speedtest()\n",
    "\n",
    "# fazer o teste do download e converter em Mb/s\n",
    "down = s.download()\n",
    "resultdown = round(down)\n",
    "fdown = int(resultdown / 1e+6)\n",
    "\n",
    "# fazer o teste do upload e converter em Mb/s\n",
    "up = s.upload()\n",
    "resultup = round(up)\n",
    "fup = int(resultup / 1e+6)\n",
    "\n",
    "# mostar resultado\n",
    "print(f\"Sua velocidade de Download é de: {fdown} mb/s\")\n",
    "print(f\"Sua velocidade de Upload é de: {fup} mb/s\")\n"
   ]
  },
  {
   "cell_type": "code",
   "execution_count": 1,
   "id": "27d2688e",
   "metadata": {},
   "outputs": [],
   "source": [
    "result = 10*3"
   ]
  },
  {
   "cell_type": "code",
   "execution_count": 2,
   "id": "b6f40231",
   "metadata": {},
   "outputs": [
    {
     "name": "stdout",
     "output_type": "stream",
     "text": [
      "ola\n"
     ]
    }
   ],
   "source": [
    "print ('ola')"
   ]
  },
  {
   "cell_type": "code",
   "execution_count": 3,
   "id": "605d91cf",
   "metadata": {},
   "outputs": [
    {
     "data": {
      "text/plain": [
       "10"
      ]
     },
     "execution_count": 3,
     "metadata": {},
     "output_type": "execute_result"
    }
   ],
   "source": [
    "import numpy as np\n",
    "idades = [10,20,30,62,45]\n",
    "np.min (idades)"
   ]
  },
  {
   "cell_type": "code",
   "execution_count": 4,
   "id": "95fea51f",
   "metadata": {},
   "outputs": [
    {
     "data": {
      "text/plain": [
       "33.4"
      ]
     },
     "execution_count": 4,
     "metadata": {},
     "output_type": "execute_result"
    }
   ],
   "source": [
    "np.mean(idades)"
   ]
  },
  {
   "cell_type": "code",
   "execution_count": 2,
   "id": "052e0c59",
   "metadata": {},
   "outputs": [
    {
     "name": "stdout",
     "output_type": "stream",
     "text": [
      "digite um número115\n",
      "o número digitado é impar\n"
     ]
    }
   ],
   "source": [
    "num = int(input('digite um número'))\n",
    "if (not num % 2):\n",
    "    print('o número digitado é par')\n",
    "else:\n",
    "    print ('o número digitado é impar')"
   ]
  }
 ],
 "metadata": {
  "kernelspec": {
   "display_name": "Python 3",
   "language": "python",
   "name": "python3"
  },
  "language_info": {
   "codemirror_mode": {
    "name": "ipython",
    "version": 3
   },
   "file_extension": ".py",
   "mimetype": "text/x-python",
   "name": "python",
   "nbconvert_exporter": "python",
   "pygments_lexer": "ipython3",
   "version": "3.8.8"
  }
 },
 "nbformat": 4,
 "nbformat_minor": 5
}
