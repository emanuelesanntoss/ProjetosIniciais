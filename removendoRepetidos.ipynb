{
 "cells": [
  {
   "cell_type": "markdown",
   "id": "7ebbd02c",
   "metadata": {},
   "source": []
  },
  {
   "cell_type": "code",
   "execution_count": null,
   "id": "bbe54727",
   "metadata": {},
   "outputs": [],
   "source": [
    "def remove_repetidos(lista):\n",
    "    l = []\n",
    "    for i in lista:\n",
    "        if i not in l:\n",
    "            l.append(i)\n",
    "    l.sort()\n",
    "    return l\n",
    "\n",
    "lista = [1, 1, 2, 1, 3, 4, 3, 6, 7, 6, 7, 8, 10 ,9]\n",
    "lista1 = ['maca','pera', 'pera', 'uva', 'laranja', 'uva', 'banana', 'kiwi']\n",
    "\n",
    "lista = remove_repetidos(lista)\n",
    "lista1 = remove_repetidos (lista1)\n",
    "print (lista)\n",
    "print (lista1)"
   ]
  },
  {
   "cell_type": "code",
   "execution_count": 9,
   "id": "58ab2890",
   "metadata": {},
   "outputs": [
    {
     "name": "stdout",
     "output_type": "stream",
     "text": [
      "[1, 2, 3, 4, 6, 7, 8, 9, 10]\n"
     ]
    }
   ],
   "source": [
    "lista = [1, 1, 2, 1, 3, 4, 3, 6, 7, 6, 7, 8, 10, 9]\n",
    "unicos = sorted(map(lambda x: x[1], filter(lambda x: x[1] not in\n",
    "                lista[:x[0]], enumerate(lista))))\n",
    "\n",
    "print(unicos)\n"
   ]
  }
 ],
 "metadata": {
  "kernelspec": {
   "display_name": "Python 3",
   "language": "python",
   "name": "python3"
  },
  "language_info": {
   "codemirror_mode": {
    "name": "ipython",
    "version": 3
   },
   "file_extension": ".py",
   "mimetype": "text/x-python",
   "name": "python",
   "nbconvert_exporter": "python",
   "pygments_lexer": "ipython3",
   "version": "3.8.8"
  }
 },
 "nbformat": 4,
 "nbformat_minor": 5
}
